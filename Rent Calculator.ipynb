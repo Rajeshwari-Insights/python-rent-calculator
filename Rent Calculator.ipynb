{
 "cells": [
  {
   "cell_type": "code",
   "execution_count": 1,
   "id": "d61a2e19-cc80-48f1-862c-7c14c4f43dce",
   "metadata": {},
   "outputs": [],
   "source": [
    "import tkinter as tk\n",
    "from tkinter import messagebox\n",
    "\n",
    "def calculate_rent():\n",
    "    try:\n",
    "        rent = float(rent_entry.get())\n",
    "        utilities = float(utilities_entry.get())\n",
    "        maintenance = float(maintenance_entry.get())\n",
    "        months = int(months_entry.get())\n",
    "\n",
    "        monthly_total = rent + utilities + maintenance\n",
    "        total_cost = monthly_total * months\n",
    "\n",
    "        result_label.config(text=f\"Total Monthly Cost: ₹{monthly_total}\\n\"\n",
    "                                 f\"Total Rent for {months} months: ₹{total_cost}\")\n",
    "    except ValueError:\n",
    "        messagebox.showerror(\"Input Error\", \"Please enter valid numbers!\")\n",
    "\n",
    "# Main window\n",
    "root = tk.Tk()\n",
    "root.title(\"Rent Calculator\")\n",
    "root.geometry(\"350x300\")\n",
    "\n",
    "# Labels and Entries\n",
    "tk.Label(root, text=\"Monthly Rent:\").pack()\n",
    "rent_entry = tk.Entry(root)\n",
    "rent_entry.pack()\n",
    "\n",
    "tk.Label(root, text=\"Utilities:\").pack()\n",
    "utilities_entry = tk.Entry(root)\n",
    "utilities_entry.pack()\n",
    "\n",
    "tk.Label(root, text=\"Maintenance:\").pack()\n",
    "maintenance_entry = tk.Entry(root)\n",
    "maintenance_entry.pack()\n",
    "\n",
    "tk.Label(root, text=\"Months:\").pack()\n",
    "months_entry = tk.Entry(root)\n",
    "months_entry.pack()\n",
    "\n",
    "# Button\n",
    "tk.Button(root, text=\"Calculate\", command=calculate_rent).pack(pady=10)\n",
    "\n",
    "# Result Label\n",
    "result_label = tk.Label(root, text=\"\", font=(\"Arial\", 12), fg=\"blue\")\n",
    "result_label.pack()\n",
    "\n",
    "# Run the app\n",
    "root.mainloop()\n"
   ]
  }
 ],
 "metadata": {
  "kernelspec": {
   "display_name": "Python 3 (ipykernel)",
   "language": "python",
   "name": "python3"
  },
  "language_info": {
   "codemirror_mode": {
    "name": "ipython",
    "version": 3
   },
   "file_extension": ".py",
   "mimetype": "text/x-python",
   "name": "python",
   "nbconvert_exporter": "python",
   "pygments_lexer": "ipython3",
   "version": "3.13.5"
  }
 },
 "nbformat": 4,
 "nbformat_minor": 5
}
